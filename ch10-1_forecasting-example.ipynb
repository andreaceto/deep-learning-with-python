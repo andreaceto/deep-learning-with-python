{
  "cells": [
    {
      "cell_type": "markdown",
      "id": "1b4cdb7e",
      "metadata": {
        "id": "1b4cdb7e"
      },
      "source": [
        "# A temperature-forecasting example\n",
        "**Problem**: given a Time Series of hourly measurements (humidity, pressure, etc.), recorded over the recent past by a set of sensors on the roof of a building, we want to predict the temperature 24 hours in the future."
      ]
    },
    {
      "cell_type": "markdown",
      "id": "2c17a4ca",
      "metadata": {
        "id": "2c17a4ca"
      },
      "source": [
        "## The dataset\n",
        "We’ll work with a weather timeseries [dataset](https://www.bgc-jena.mpg.de/wetter/) recorded at the weather station at the Max Planck Institute for Biogeochemistry in Jena, Germany.\n",
        "\n",
        "In this dataset, 14 different quantities (such as temperature, pressure, humidity, wind direction, and so on) were recorded every 10 minutes over several years. The original data goes back to 2003, but the subset of the data we’ll download is limited to 2009–2016."
      ]
    },
    {
      "cell_type": "markdown",
      "id": "4b9e012f",
      "metadata": {
        "id": "4b9e012f"
      },
      "source": [
        "### Downloading the data"
      ]
    },
    {
      "cell_type": "code",
      "execution_count": 1,
      "id": "4146d030",
      "metadata": {
        "vscode": {
          "languageId": "shellscript"
        },
        "id": "4146d030",
        "outputId": "f8d88da3-9a32-4ad6-ddd7-800baf8b56c7",
        "colab": {
          "base_uri": "https://localhost:8080/"
        }
      },
      "outputs": [
        {
          "output_type": "stream",
          "name": "stdout",
          "text": [
            "--2025-04-29 16:06:47--  https://s3.amazonaws.com/keras-datasets/jena_climate_2009_2016.csv.zip\n",
            "Resolving s3.amazonaws.com (s3.amazonaws.com)... 3.5.12.122, 54.231.228.184, 16.182.40.120, ...\n",
            "Connecting to s3.amazonaws.com (s3.amazonaws.com)|3.5.12.122|:443... connected.\n",
            "HTTP request sent, awaiting response... 200 OK\n",
            "Length: 13565642 (13M) [application/zip]\n",
            "Saving to: ‘jena_climate_2009_2016.csv.zip’\n",
            "\n",
            "jena_climate_2009_2 100%[===================>]  12.94M  20.6MB/s    in 0.6s    \n",
            "\n",
            "2025-04-29 16:06:48 (20.6 MB/s) - ‘jena_climate_2009_2016.csv.zip’ saved [13565642/13565642]\n",
            "\n",
            "Archive:  jena_climate_2009_2016.csv.zip\n",
            "  inflating: jena_climate_2009_2016.csv  \n",
            "  inflating: __MACOSX/._jena_climate_2009_2016.csv  \n"
          ]
        }
      ],
      "source": [
        "\n",
        "!wget https://s3.amazonaws.com/keras-datasets/jena_climate_2009_2016.csv.zip\n",
        "!unzip jena_climate_2009_2016.csv.zip"
      ]
    },
    {
      "cell_type": "markdown",
      "id": "85f882df",
      "metadata": {
        "id": "85f882df"
      },
      "source": [
        "### Inspecting the data of the Jena weather dataset\n",
        "The following snippet outputs a count of $420,551$ lines of data (each line is a timestep: a record of a date and 14 weather-related values), as well as its header."
      ]
    },
    {
      "cell_type": "code",
      "execution_count": 2,
      "id": "33a3a671",
      "metadata": {
        "id": "33a3a671",
        "outputId": "0cc62846-ed09-4a86-edb9-5ee97a939195",
        "colab": {
          "base_uri": "https://localhost:8080/"
        }
      },
      "outputs": [
        {
          "output_type": "stream",
          "name": "stdout",
          "text": [
            "['\"Date Time\"', '\"p (mbar)\"', '\"T (degC)\"', '\"Tpot (K)\"', '\"Tdew (degC)\"', '\"rh (%)\"', '\"VPmax (mbar)\"', '\"VPact (mbar)\"', '\"VPdef (mbar)\"', '\"sh (g/kg)\"', '\"H2OC (mmol/mol)\"', '\"rho (g/m**3)\"', '\"wv (m/s)\"', '\"max. wv (m/s)\"', '\"wd (deg)\"']\n",
            "420451\n"
          ]
        }
      ],
      "source": [
        "import os\n",
        "\n",
        "fname = os.path.join(\"jena_climate_2009_2016.csv\")\n",
        "\n",
        "with open(fname) as f:\n",
        "    data = f.read()\n",
        "\n",
        "lines = data.split(\"\\n\")\n",
        "header = lines[0].split(\",\")\n",
        "lines = lines[1:]\n",
        "print(header)\n",
        "print(len(lines))"
      ]
    },
    {
      "cell_type": "markdown",
      "id": "aa0b5700",
      "metadata": {
        "id": "aa0b5700"
      },
      "source": [
        "### Parsing the data\n",
        "Now, convert all $420,551$ lines of data into NumPy arrays:\n",
        "- One array for the temperature (in degrees Celsius);\n",
        "- Another one for the rest of the data—the features we will use to predict future temperatures.\n",
        "\n",
        "Note that we discard the _“Date Time”_ column."
      ]
    },
    {
      "cell_type": "code",
      "execution_count": 3,
      "id": "2b44120c",
      "metadata": {
        "id": "2b44120c"
      },
      "outputs": [],
      "source": [
        "import numpy as np\n",
        "\n",
        "temperature = np.zeros((len(lines),))\n",
        "raw_data = np.zeros((len(lines), len(header) - 1))\n",
        "for i, line in enumerate(lines):\n",
        "    values = [float(x) for x in line.split(\",\")[1:]]\n",
        "    temperature[i] = values[1]\n",
        "    raw_data[i, :] = values[:]"
      ]
    },
    {
      "cell_type": "markdown",
      "id": "13472767",
      "metadata": {
        "id": "13472767"
      },
      "source": [
        "### Plotting the temperature timeseries"
      ]
    },
    {
      "cell_type": "code",
      "execution_count": 4,
      "id": "82aa4c24",
      "metadata": {
        "id": "82aa4c24",
        "outputId": "bd32493b-a34f-4220-d426-5753df96dd07",
        "colab": {
          "base_uri": "https://localhost:8080/",
          "height": 452
        }
      },
      "outputs": [
        {
          "output_type": "execute_result",
          "data": {
            "text/plain": [
              "[<matplotlib.lines.Line2D at 0x78e6264c2590>]"
            ]
          },
          "metadata": {},
          "execution_count": 4
        },
        {
          "output_type": "display_data",
          "data": {
            "text/plain": [
              "<Figure size 640x480 with 1 Axes>"
            ],
            "image/png": "[encoded data removed]"
          },
          "metadata": {}
        }
      ],
      "source": [
        "from matplotlib import pyplot as plt\n",
        "\n",
        "plt.plot(range(len(temperature)), temperature)"
      ]
    },
    {
      "cell_type": "markdown",
      "id": "55a11d62",
      "metadata": {
        "id": "55a11d62"
      },
      "source": [
        "We can clearly see the yearly **periodicity** of temperature $-$ the data spans 8 years.\n",
        "\n",
        "Periodicity over multiple timescales is an important and very common property of timeseries data. Whether you’re looking at the weather, mall parking occupancy, traffic to a website, sales of a grocery store, or steps logged in a fitness tracker, you’ll see daily cycles and yearly cycles (human-generated data also tends to feature weekly cycles).\n",
        "\n",
        "When exploring your data, make sure to look for these patterns."
      ]
    },
    {
      "cell_type": "markdown",
      "id": "8424ee88",
      "metadata": {
        "id": "8424ee88"
      },
      "source": [
        "### Plotting the first 10 days of the temperature timeseries\n",
        "Because the data is recorded every 10 minutes, you get $24 \\times 6 = 144$ data points per day."
      ]
    },
    {
      "cell_type": "code",
      "execution_count": 5,
      "id": "62e0531a",
      "metadata": {
        "id": "62e0531a",
        "outputId": "784c9e35-fab0-4939-d3de-8c3f5cee514e",
        "colab": {
          "base_uri": "https://localhost:8080/",
          "height": 448
        }
      },
      "outputs": [
        {
          "output_type": "execute_result",
          "data": {
            "text/plain": [
              "[<matplotlib.lines.Line2D at 0x78e5f9981c50>]"
            ]
          },
          "metadata": {},
          "execution_count": 5
        },
        {
          "output_type": "display_data",
          "data": {
            "text/plain": [
              "<Figure size 640x480 with 1 Axes>"
            ],
            "image/png": "[encoded data removed]"
          },
          "metadata": {}
        }
      ],
      "source": [
        "plt.plot(range(1440), temperature[:1440])"
      ]
    },
    {
      "cell_type": "markdown",
      "id": "427405cf",
      "metadata": {
        "id": "427405cf"
      },
      "source": [
        "On this plot, we can see daily periodicity, especially for the last 4 days. Also note that this 10-day period must be coming from a fairly cold winter month."
      ]
    },
    {
      "cell_type": "markdown",
      "id": "1f6837b4",
      "metadata": {
        "id": "1f6837b4"
      },
      "source": [
        "### Computing the number of samples we’ll use for each data split\n",
        "We’ll use the first $50%$ of the data for training, the following $25%$ for validation, and the last $25%$ for testing.\n",
        "\n",
        "When working with timeseries data, it’s important to use validation and test data that is more recent than the training data, because you’re trying to **predict the future given the past**, not the reverse, and your validation/test splits should reflect that."
      ]
    },
    {
      "cell_type": "code",
      "execution_count": 6,
      "id": "051a4e8a",
      "metadata": {
        "id": "051a4e8a",
        "outputId": "19f964a8-4b4f-4b68-83b9-9c18e0eb25ce",
        "colab": {
          "base_uri": "https://localhost:8080/"
        }
      },
      "outputs": [
        {
          "output_type": "stream",
          "name": "stdout",
          "text": [
            "num_train_samples: 210225\n",
            "num_val_samples: 105112\n",
            "num_test_samples: 105114\n"
          ]
        }
      ],
      "source": [
        "num_train_samples = int(0.5 * len(raw_data))\n",
        "num_val_samples = int(0.25 * len(raw_data))\n",
        "num_test_samples = len(raw_data) - num_train_samples - num_val_samples\n",
        "\n",
        "print(\"num_train_samples:\", num_train_samples)\n",
        "print(\"num_val_samples:\", num_val_samples)\n",
        "print(\"num_test_samples:\", num_test_samples)"
      ]
    },
    {
      "cell_type": "markdown",
      "id": "b5397f55",
      "metadata": {
        "id": "b5397f55"
      },
      "source": [
        "## Preparing the data\n",
        "The exact formulation of the problem will be as follows:\n",
        "\n",
        "_<<Given data covering the previous five days and sampled once per hour, can we predict the temperature in 24 hours?>>_"
      ]
    },
    {
      "cell_type": "markdown",
      "id": "d4cb3202",
      "metadata": {
        "id": "d4cb3202"
      },
      "source": [
        "### Normalizing the data\n",
        "First, let’s preprocess the data to a format a neural network can ingest.\n",
        "\n",
        "The data is already numerical, so you don’t need to do any vectorization. But each timeseries in the data is on a different scale (for example, atmospheric pressure, measured in _mbar_, is around $1,000$, while H2OC, measured in _millimoles per mole_, is around $3$). We’ll normalize each timeseries independently so that they all take small values on a similar scale.\n",
        "\n",
        "We’re going to use the first $210,225$ timesteps as training data, so we’ll compute the mean and standard deviation only on this fraction of the data."
      ]
    },
    {
      "cell_type": "code",
      "execution_count": 7,
      "id": "93500026",
      "metadata": {
        "id": "93500026"
      },
      "outputs": [],
      "source": [
        "mean = raw_data[:num_train_samples].mean(axis=0)\n",
        "raw_data -= mean\n",
        "std = raw_data[:num_train_samples].std(axis=0)\n",
        "raw_data /= std"
      ]
    },
    {
      "cell_type": "markdown",
      "id": "78c08e8d",
      "metadata": {
        "id": "78c08e8d"
      },
      "source": [
        "### Instantiating datasets for training, validation, and testing\n",
        "Next, let’s create a _Dataset_ object that yields batches of data from the past five days along with a target temperature 24 hours in the future.\n",
        "\n",
        "Because the samples in the dataset are highly redundant (sample $N$ and sample $N + 1$ will have most of their timesteps in common), it would be wasteful to explicitly allocate memory for every sample.\n",
        "\n",
        "Instead, we’ll generate the samples on the fly while only keeping in memory the original ```raw_data``` and ```temperature``` arrays, and nothing more.\n",
        "\n",
        "We’ll use ```timeseries_dataset_from_array()``` to instantiate three datasets: one for training, one for validation, and one for testing.\n",
        "\n",
        "We’ll use the following parameter values:\n",
        "- ```sampling_rate = 6```—Observations will be sampled at one data point per hour: we will only keep one data point out of 6;\n",
        "- ```sequence_length = 120```—Observations will go back 5 days (120 hours);\n",
        "- ```delay = sampling_rate * (sequence_length + 24 - 1)```—The target for a sequence will be the temperature 24 hours after the end of the sequence.\n",
        "\n",
        "When making the training dataset, we’ll pass ```start_index = 0``` and ```end_index = num_train_samples``` to only use the first $50%$ of the data.\n",
        "\n",
        "For the validation dataset, we’ll pass ```start_index = num_train_samples``` and ```end_index = num_train_samples + num_val_samples``` to use the next $25%$ of the data.\n",
        "\n",
        "Finally, for the test dataset, we’ll pass ```start_index = num_train_samples + num_val_samples``` to use the remaining samples."
      ]
    },
    {
      "cell_type": "code",
      "execution_count": 8,
      "id": "7de3e56d",
      "metadata": {
        "id": "7de3e56d"
      },
      "outputs": [],
      "source": [
        "from tensorflow import keras\n",
        "\n",
        "sampling_rate = 6\n",
        "sequence_length = 120\n",
        "delay = sampling_rate * (sequence_length + 24 - 1)\n",
        "batch_size = 256\n",
        "\n",
        "train_dataset = keras.utils.timeseries_dataset_from_array(\n",
        "    raw_data[:-delay],\n",
        "    targets=temperature[delay:],\n",
        "    sampling_rate=sampling_rate,\n",
        "    sequence_length=sequence_length,\n",
        "    shuffle=True,\n",
        "    batch_size=batch_size,\n",
        "    start_index=0,\n",
        "    end_index=num_train_samples)\n",
        "\n",
        "val_dataset = keras.utils.timeseries_dataset_from_array(\n",
        "    raw_data[:-delay],\n",
        "    targets=temperature[delay:],\n",
        "    sampling_rate=sampling_rate,\n",
        "    sequence_length=sequence_length,\n",
        "    shuffle=True,\n",
        "    batch_size=batch_size,\n",
        "    start_index=num_train_samples,\n",
        "    end_index=num_train_samples + num_val_samples)\n",
        "\n",
        "test_dataset = keras.utils.timeseries_dataset_from_array(\n",
        "    raw_data[:-delay],\n",
        "    targets=temperature[delay:],\n",
        "    sampling_rate=sampling_rate,\n",
        "    sequence_length=sequence_length,\n",
        "    shuffle=True,\n",
        "    batch_size=batch_size,\n",
        "    start_index=num_train_samples + num_val_samples)"
      ]
    },
    {
      "cell_type": "markdown",
      "id": "b2a320c2",
      "metadata": {
        "id": "b2a320c2"
      },
      "source": [
        "### Inspecting the output of one of our datasets\n",
        "Each dataset yields a tuple ```(samples, targets)```, where ```samples``` is a batch of $256$ samples, each containing $120$ consecutive hours of input data, and ```targets``` is the corresponding array of $256$ target temperatures.\n",
        "\n",
        "Note that the samples are randomly shuffled, so two consecutive sequences in a batch (like samples[0] and samples[1]) aren’t necessarily temporally close."
      ]
    },
    {
      "cell_type": "code",
      "execution_count": 9,
      "id": "8b6818ad",
      "metadata": {
        "id": "8b6818ad",
        "outputId": "1f9b0dfa-6b4e-49dd-bb5a-59e1964e5a6c",
        "colab": {
          "base_uri": "https://localhost:8080/"
        }
      },
      "outputs": [
        {
          "output_type": "stream",
          "name": "stdout",
          "text": [
            "samples shape: (256, 120, 14)\n",
            "targets shape: (256,)\n"
          ]
        }
      ],
      "source": [
        "for samples, targets in train_dataset:\n",
        "    print(\"samples shape:\", samples.shape)\n",
        "    print(\"targets shape:\", targets.shape)\n",
        "    break"
      ]
    },
    {
      "cell_type": "markdown",
      "id": "21310791",
      "metadata": {
        "id": "21310791"
      },
      "source": [
        "## A common-sense, non-machine learning baseline\n",
        "Before we start using black-box deep learning models to solve the temperature-prediction problem, let’s try a simple, **common-sense approach**. It will serve as a sanity check, and it will establish a baseline that we’ll have to beat in order to demonstrate the usefulness of more-advanced machine learning models. Such common-sense baselines can be useful when you’re approaching a new problem for which there is no known solution (yet).\n",
        "\n",
        "A classic example is that of unbalanced classification tasks, where some classes are much more common than others. If your dataset contains 90% instances of class A and 10% instances of class B, then a common-sense approach to the classification task is to always predict “A” when presented with a new sample. Such a classifier is 90% accurate overall, and any learning-based approach should therefore beat this 90% score in order to demonstrate usefulness. Sometimes, such elementary\n",
        "baselines can prove surprisingly hard to beat.\n",
        "\n",
        "In this case, the temperature timeseries can safely be assumed to be continuous (the temperatures tomorrow are likely to be close to the temperatures today) as well as periodical with a daily period. Thus a common-sense approach is to always\n",
        "predict that the temperature 24 hours from now will be equal to the temperature right now."
      ]
    },
    {
      "cell_type": "markdown",
      "id": "300b571a",
      "metadata": {
        "id": "300b571a"
      },
      "source": [
        "### Computing the common-sense baseline MAE\n",
        "Let’s evaluate the approach we discussed, using the mean absolute error (MAE) metric, defined as follows:\n",
        "```math\n",
        "\tnp.mean(np.abs(preds - targets))\n",
        "```"
      ]
    },
    {
      "cell_type": "code",
      "execution_count": 10,
      "id": "8add5920",
      "metadata": {
        "id": "8add5920",
        "outputId": "d5ad6b61-afae-4ae1-afe5-21771dcd5a0e",
        "colab": {
          "base_uri": "https://localhost:8080/"
        }
      },
      "outputs": [
        {
          "output_type": "stream",
          "name": "stdout",
          "text": [
            "Validation MAE: 2.44\n",
            "Test MAE: 2.62\n"
          ]
        }
      ],
      "source": [
        "def evaluate_naive_method(dataset):\n",
        "    total_abs_err = 0.\n",
        "    samples_seen = 0\n",
        "    for samples, targets in dataset:\n",
        "        preds = samples[:, -1, 1] * std[1] + mean[1]\n",
        "        total_abs_err += np.sum(np.abs(preds - targets))\n",
        "        samples_seen += samples.shape[0]\n",
        "    return total_abs_err / samples_seen\n",
        "\n",
        "print(f\"Validation MAE: {evaluate_naive_method(val_dataset):.2f}\")\n",
        "print(f\"Test MAE: {evaluate_naive_method(test_dataset):.2f}\")"
      ]
    },
    {
      "cell_type": "markdown",
      "id": "94eeac76",
      "metadata": {
        "id": "94eeac76"
      },
      "source": [
        "## Let's try a basic machine learning model\n",
        "In the same way that it’s useful to establish a common-sense baseline before trying machine learning approaches, it’s useful to try simple, cheap machine learning models (such as small, densely connected networks) before looking into complicated and computationally expensive models such as RNNs. This is the best way to make sure any further complexity you throw at the problem is legitimate and delivers real benefits."
      ]
    },
    {
      "cell_type": "markdown",
      "id": "80d6c60a",
      "metadata": {
        "id": "80d6c60a"
      },
      "source": [
        "### Training and evaluating a densely connected model\n",
        "We define a fully connected model that starts by flattening the data and then runs it through two _Dense_ layers.\n",
        "\n",
        "Note the lack of an activation function on the last _Dense_ layer, which is typical for a regression problem.\n",
        "\n",
        "We use **mean squared error** (MSE) as the loss, rather than MAE, because unlike MAE, it’s smooth\n",
        "around zero, which is a useful property for gradient descent.\n",
        "\n",
        "We will monitor MAE by adding it as a metric in ```compile()```."
      ]
    },
    {
      "cell_type": "code",
      "execution_count": 12,
      "id": "a0306771",
      "metadata": {
        "id": "a0306771",
        "outputId": "2609fdd1-5255-4baf-fb04-263f63d4836f",
        "colab": {
          "base_uri": "https://localhost:8080/"
        }
      },
      "outputs": [
        {
          "output_type": "stream",
          "name": "stdout",
          "text": [
            "Epoch 1/10\n",
            "\u001b[1m819/819\u001b[0m \u001b[32m━━━━━━━━━━━━━━━━━━━━\u001b[0m\u001b[37m\u001b[0m \u001b[1m35s\u001b[0m 41ms/step - loss: 17.8471 - mae: 3.2051 - val_loss: 10.7330 - val_mae: 2.5921\n",
            "Epoch 2/10\n",
            "\u001b[1m819/819\u001b[0m \u001b[32m━━━━━━━━━━━━━━━━━━━━\u001b[0m\u001b[37m\u001b[0m \u001b[1m43s\u001b[0m 52ms/step - loss: 9.3227 - mae: 2.3994 - val_loss: 13.1321 - val_mae: 2.8757\n",
            "Epoch 3/10\n",
            "\u001b[1m819/819\u001b[0m \u001b[32m━━━━━━━━━━━━━━━━━━━━\u001b[0m\u001b[37m\u001b[0m \u001b[1m43s\u001b[0m 52ms/step - loss: 8.4922 - mae: 2.2914 - val_loss: 12.2968 - val_mae: 2.7820\n",
            "Epoch 4/10\n",
            "\u001b[1m819/819\u001b[0m \u001b[32m━━━━━━━━━━━━━━━━━━━━\u001b[0m\u001b[37m\u001b[0m \u001b[1m81s\u001b[0m 52ms/step - loss: 8.0187 - mae: 2.2237 - val_loss: 11.2659 - val_mae: 2.6572\n",
            "Epoch 5/10\n",
            "\u001b[1m819/819\u001b[0m \u001b[32m━━━━━━━━━━━━━━━━━━━━\u001b[0m\u001b[37m\u001b[0m \u001b[1m42s\u001b[0m 51ms/step - loss: 7.6454 - mae: 2.1718 - val_loss: 11.5380 - val_mae: 2.6812\n",
            "Epoch 6/10\n",
            "\u001b[1m819/819\u001b[0m \u001b[32m━━━━━━━━━━━━━━━━━━━━\u001b[0m\u001b[37m\u001b[0m \u001b[1m73s\u001b[0m 40ms/step - loss: 7.3577 - mae: 2.1319 - val_loss: 10.9772 - val_mae: 2.6238\n",
            "Epoch 7/10\n",
            "\u001b[1m819/819\u001b[0m \u001b[32m━━━━━━━━━━━━━━━━━━━━\u001b[0m\u001b[37m\u001b[0m \u001b[1m34s\u001b[0m 41ms/step - loss: 7.1918 - mae: 2.1072 - val_loss: 10.5588 - val_mae: 2.5660\n",
            "Epoch 8/10\n",
            "\u001b[1m819/819\u001b[0m \u001b[32m━━━━━━━━━━━━━━━━━━━━\u001b[0m\u001b[37m\u001b[0m \u001b[1m34s\u001b[0m 41ms/step - loss: 6.9524 - mae: 2.0725 - val_loss: 10.6518 - val_mae: 2.5767\n",
            "Epoch 9/10\n",
            "\u001b[1m819/819\u001b[0m \u001b[32m━━━━━━━━━━━━━━━━━━━━\u001b[0m\u001b[37m\u001b[0m \u001b[1m43s\u001b[0m 53ms/step - loss: 6.8273 - mae: 2.0558 - val_loss: 10.9096 - val_mae: 2.6103\n",
            "Epoch 10/10\n",
            "\u001b[1m819/819\u001b[0m \u001b[32m━━━━━━━━━━━━━━━━━━━━\u001b[0m\u001b[37m\u001b[0m \u001b[1m33s\u001b[0m 40ms/step - loss: 6.7429 - mae: 2.0434 - val_loss: 10.8776 - val_mae: 2.6004\n",
            "\u001b[1m405/405\u001b[0m \u001b[32m━━━━━━━━━━━━━━━━━━━━\u001b[0m\u001b[37m\u001b[0m \u001b[1m12s\u001b[0m 27ms/step - loss: 11.8034 - mae: 2.6917\n",
            "Test MAE: 2.69\n"
          ]
        }
      ],
      "source": [
        "from tensorflow.keras import layers\n",
        "\n",
        "inputs = keras.Input(shape=(sequence_length, raw_data.shape[-1]))\n",
        "x = layers.Reshape((sequence_length * raw_data.shape[-1],))(inputs)\n",
        "x = layers.Dense(16, activation=\"relu\")(x)\n",
        "outputs = layers.Dense(1)(x)\n",
        "model = keras.Model(inputs, outputs)\n",
        "\n",
        "callbacks = [\n",
        "    keras.callbacks.ModelCheckpoint(\"jena_dense.keras\",\n",
        "                                    save_best_only=True)\n",
        "]\n",
        "model.compile(optimizer=\"rmsprop\", loss=\"mse\", metrics=[\"mae\"])\n",
        "history = model.fit(train_dataset,\n",
        "                    epochs=10,\n",
        "                    validation_data=val_dataset,\n",
        "                    callbacks=callbacks)\n",
        "\n",
        "model = keras.models.load_model(\"jena_dense.keras\")\n",
        "print(f\"Test MAE: {model.evaluate(test_dataset)[1]:.2f}\")"
      ]
    },
    {
      "cell_type": "markdown",
      "id": "6b4447b9",
      "metadata": {
        "id": "6b4447b9"
      },
      "source": [
        "### Plotting results\n",
        "Let’s display the loss curves for validation and training."
      ]
    },
    {
      "cell_type": "code",
      "execution_count": 13,
      "id": "46275d7d",
      "metadata": {
        "id": "46275d7d",
        "outputId": "36dc8a08-5b74-4255-d431-e4e10f70ad18",
        "colab": {
          "base_uri": "https://localhost:8080/",
          "height": 452
        }
      },
      "outputs": [
        {
          "output_type": "display_data",
          "data": {
            "text/plain": [
              "<Figure size 640x480 with 1 Axes>"
            ],
            "image/png": "[encoded data removed]"
          },
          "metadata": {}
        }
      ],
      "source": [
        "loss = history.history[\"mae\"]\n",
        "val_loss = history.history[\"val_mae\"]\n",
        "epochs = range(1, len(loss) + 1)\n",
        "plt.figure()\n",
        "plt.plot(epochs, loss, \"bo\", label=\"Training MAE\")\n",
        "plt.plot(epochs, val_loss, \"b\", label=\"Validation MAE\")\n",
        "plt.title(\"Training and validation MAE\")\n",
        "plt.legend()\n",
        "plt.show()"
      ]
    },
    {
      "cell_type": "markdown",
      "id": "4cbc3558",
      "metadata": {
        "id": "4cbc3558"
      },
      "source": [
        "Some of the validation losses are close to the no-learning baseline, but not reliably. This goes to show the merit of having this baseline in the first place: it turns out to be not easy to outperform."
      ]
    },
    {
      "cell_type": "markdown",
      "id": "89cd7d4d",
      "metadata": {
        "id": "89cd7d4d"
      },
      "source": [
        "## Let's try a 1D convolutional model\n",
        "Since our input sequences feature daily cycles, perhaps a convolutional model could work. A temporal convnet could reuse the same representations across different days, much like a spatial convnet can reuse the same representations across different locations in an image.\n",
        "\n",
        "We already used ```Conv2D``` and ```SeparableConv2D``` layers, which see their inputs through small windows that swipe across 2D grids. There are also 1D and even 3D versions of these layers: ```Conv1D```, ```SeparableConv1D```, and ```Conv3D```.\n",
        "\n",
        "The ```Conv1D``` layer relies on 1D windows that slide across input sequences, and the ```Conv3D``` layer relies on\n",
        "cubic windows that slide across input volumes.\n",
        "\n",
        "You can thus build 1D convnets, strictly analogous to 2D convnets. They’re a great fit for any sequence data that follows the translation invariance assumption (meaning that if you slide a window over the sequence, the content of the window should follow the same properties independently of the location of the window).\n",
        "\n",
        "Let’s try one on our temperature-forecasting problem. We’ll pick an initial window length of 24, so that we look at 24 hours of data at a time (one cycle). As we downsample the sequences (via ```MaxPooling1D``` layers), we’ll reduce the window size accordingly:"
      ]
    },
    {
      "cell_type": "code",
      "execution_count": 14,
      "id": "292c8b9f",
      "metadata": {
        "id": "292c8b9f",
        "outputId": "aa6d1a5e-5a5d-4a25-ed44-4ddf5504f9ac",
        "colab": {
          "base_uri": "https://localhost:8080/"
        }
      },
      "outputs": [
        {
          "output_type": "stream",
          "name": "stdout",
          "text": [
            "Epoch 1/10\n",
            "\u001b[1m819/819\u001b[0m \u001b[32m━━━━━━━━━━━━━━━━━━━━\u001b[0m\u001b[37m\u001b[0m \u001b[1m40s\u001b[0m 45ms/step - loss: 46.4779 - mae: 5.1189 - val_loss: 18.1934 - val_mae: 3.4018\n",
            "Epoch 2/10\n",
            "\u001b[1m819/819\u001b[0m \u001b[32m━━━━━━━━━━━━━━━━━━━━\u001b[0m\u001b[37m\u001b[0m \u001b[1m45s\u001b[0m 53ms/step - loss: 16.9107 - mae: 3.2746 - val_loss: 15.0054 - val_mae: 3.0535\n",
            "Epoch 3/10\n",
            "\u001b[1m819/819\u001b[0m \u001b[32m━━━━━━━━━━━━━━━━━━━━\u001b[0m\u001b[37m\u001b[0m \u001b[1m34s\u001b[0m 42ms/step - loss: 15.5741 - mae: 3.1360 - val_loss: 14.7667 - val_mae: 3.0313\n",
            "Epoch 4/10\n",
            "\u001b[1m819/819\u001b[0m \u001b[32m━━━━━━━━━━━━━━━━━━━━\u001b[0m\u001b[37m\u001b[0m \u001b[1m36s\u001b[0m 43ms/step - loss: 14.5995 - mae: 3.0383 - val_loss: 15.1861 - val_mae: 3.0709\n",
            "Epoch 5/10\n",
            "\u001b[1m819/819\u001b[0m \u001b[32m━━━━━━━━━━━━━━━━━━━━\u001b[0m\u001b[37m\u001b[0m \u001b[1m51s\u001b[0m 55ms/step - loss: 13.9267 - mae: 2.9683 - val_loss: 14.5490 - val_mae: 3.0119\n",
            "Epoch 6/10\n",
            "\u001b[1m819/819\u001b[0m \u001b[32m━━━━━━━━━━━━━━━━━━━━\u001b[0m\u001b[37m\u001b[0m \u001b[1m71s\u001b[0m 42ms/step - loss: 13.3255 - mae: 2.9024 - val_loss: 14.5080 - val_mae: 2.9757\n",
            "Epoch 7/10\n",
            "\u001b[1m819/819\u001b[0m \u001b[32m━━━━━━━━━━━━━━━━━━━━\u001b[0m\u001b[37m\u001b[0m \u001b[1m44s\u001b[0m 53ms/step - loss: 12.8374 - mae: 2.8434 - val_loss: 14.4309 - val_mae: 3.0022\n",
            "Epoch 8/10\n",
            "\u001b[1m819/819\u001b[0m \u001b[32m━━━━━━━━━━━━━━━━━━━━\u001b[0m\u001b[37m\u001b[0m \u001b[1m44s\u001b[0m 53ms/step - loss: 12.3854 - mae: 2.7931 - val_loss: 14.0330 - val_mae: 2.9441\n",
            "Epoch 9/10\n",
            "\u001b[1m819/819\u001b[0m \u001b[32m━━━━━━━━━━━━━━━━━━━━\u001b[0m\u001b[37m\u001b[0m \u001b[1m34s\u001b[0m 41ms/step - loss: 11.9597 - mae: 2.7434 - val_loss: 16.9793 - val_mae: 3.2777\n",
            "Epoch 10/10\n",
            "\u001b[1m819/819\u001b[0m \u001b[32m━━━━━━━━━━━━━━━━━━━━\u001b[0m\u001b[37m\u001b[0m \u001b[1m44s\u001b[0m 53ms/step - loss: 11.6319 - mae: 2.7058 - val_loss: 16.6153 - val_mae: 3.2105\n",
            "\u001b[1m405/405\u001b[0m \u001b[32m━━━━━━━━━━━━━━━━━━━━\u001b[0m\u001b[37m\u001b[0m \u001b[1m12s\u001b[0m 28ms/step - loss: 15.2583 - mae: 3.0738\n",
            "Test MAE: 3.07\n"
          ]
        }
      ],
      "source": [
        "inputs = keras.Input(shape=(sequence_length, raw_data.shape[-1]))\n",
        "x = layers.Conv1D(8, 24, activation=\"relu\")(inputs)\n",
        "x = layers.MaxPooling1D(2)(x)\n",
        "x = layers.Conv1D(8, 12, activation=\"relu\")(x)\n",
        "x = layers.MaxPooling1D(2)(x)\n",
        "x = layers.Conv1D(8, 6, activation=\"relu\")(x)\n",
        "x = layers.GlobalAveragePooling1D()(x)\n",
        "outputs = layers.Dense(1)(x)\n",
        "model = keras.Model(inputs, outputs)\n",
        "\n",
        "callbacks = [\n",
        "    keras.callbacks.ModelCheckpoint(\"jena_conv.keras\",\n",
        "                                    save_best_only=True)\n",
        "]\n",
        "model.compile(optimizer=\"rmsprop\", loss=\"mse\", metrics=[\"mae\"])\n",
        "history = model.fit(train_dataset,\n",
        "                    epochs=10,\n",
        "                    validation_data=val_dataset,\n",
        "                    callbacks=callbacks)\n",
        "\n",
        "model = keras.models.load_model(\"jena_conv.keras\")\n",
        "print(f\"Test MAE: {model.evaluate(test_dataset)[1]:.2f}\")"
      ]
    },
    {
      "cell_type": "code",
      "execution_count": 15,
      "id": "1c1ad6d0",
      "metadata": {
        "id": "1c1ad6d0",
        "outputId": "5b3a3d34-bfc0-46b1-9d25-b3d6d7c7ab44",
        "colab": {
          "base_uri": "https://localhost:8080/",
          "height": 452
        }
      },
      "outputs": [
        {
          "output_type": "display_data",
          "data": {
            "text/plain": [
              "<Figure size 640x480 with 1 Axes>"
            ],
            "image/png": "[encoded data removed]"
          },
          "metadata": {}
        }
      ],
      "source": [
        "loss = history.history[\"mae\"]\n",
        "val_loss = history.history[\"val_mae\"]\n",
        "epochs = range(1, len(loss) + 1)\n",
        "plt.figure()\n",
        "plt.plot(epochs, loss, \"bo\", label=\"Training MAE\")\n",
        "plt.plot(epochs, val_loss, \"b\", label=\"Validation MAE\")\n",
        "plt.title(\"Training and validation MAE\")\n",
        "plt.legend()\n",
        "plt.show()"
      ]
    },
    {
      "cell_type": "markdown",
      "id": "5b89de15",
      "metadata": {
        "id": "5b89de15"
      },
      "source": [
        "As it turns out, this model performs even worse than the densely connected one.\n",
        "\n",
        "_What went wrong here?_ Two things:\n",
        "1. **Weather data doesn’t quite respect the translation invariance assumption**. While the data does feature daily cycles, data from a morning follows different properties than data from an evening or from the middle of the night. Weather data is only translation-invariant for a very specific timescale.\n",
        "2. **Order in our data matters**. The recent past is far more informative for predicting the next day’s temperature than data from five days ago. A 1D convnet is not able to leverage this fact. In particular, our max pooling and global average pooling layers are largely destroying order information."
      ]
    },
    {
      "cell_type": "markdown",
      "id": "ee31b993",
      "metadata": {
        "id": "ee31b993"
      },
      "source": [
        "## A first recurrent baseline\n",
        "Neither the fully connected approach nor the convolutional approach did well, but that doesn’t mean machine learning isn’t applicable to this problem. The densely connected approach first flattened the timeseries, which removed the notion of time\n",
        "from the input data. The convolutional approach treated every segment of the data in the same way, even applying pooling, which destroyed order information.\n",
        "\n",
        "Let’s instead look at the data as what it is: a sequence, where causality and order matter."
      ]
    },
    {
      "cell_type": "markdown",
      "id": "038f03ea",
      "metadata": {
        "id": "038f03ea"
      },
      "source": [
        "### A simple LSTM-based model\n",
        "There’s a family of neural network architectures designed specifically for this use case: **recurrent neural networks** (RNNs). Among them, the **Long Short Term Memory** (LSTM) layer has long been very popular."
      ]
    },
    {
      "cell_type": "code",
      "execution_count": 16,
      "id": "f04dda23",
      "metadata": {
        "id": "f04dda23",
        "outputId": "4b17420d-9b6c-46bf-c000-2aabdb96c198",
        "colab": {
          "base_uri": "https://localhost:8080/"
        }
      },
      "outputs": [
        {
          "output_type": "stream",
          "name": "stdout",
          "text": [
            "Epoch 1/10\n",
            "\u001b[1m819/819\u001b[0m \u001b[32m━━━━━━━━━━━━━━━━━━━━\u001b[0m\u001b[37m\u001b[0m \u001b[1m49s\u001b[0m 57ms/step - loss: 75.8087 - mae: 6.7067 - val_loss: 13.8855 - val_mae: 2.8010\n",
            "Epoch 2/10\n",
            "\u001b[1m819/819\u001b[0m \u001b[32m━━━━━━━━━━━━━━━━━━━━\u001b[0m\u001b[37m\u001b[0m \u001b[1m37s\u001b[0m 45ms/step - loss: 12.5193 - mae: 2.7109 - val_loss: 10.1558 - val_mae: 2.4632\n",
            "Epoch 3/10\n",
            "\u001b[1m819/819\u001b[0m \u001b[32m━━━━━━━━━━━━━━━━━━━━\u001b[0m\u001b[37m\u001b[0m \u001b[1m38s\u001b[0m 46ms/step - loss: 10.0719 - mae: 2.4720 - val_loss: 9.5390 - val_mae: 2.4084\n",
            "Epoch 4/10\n",
            "\u001b[1m819/819\u001b[0m \u001b[32m━━━━━━━━━━━━━━━━━━━━\u001b[0m\u001b[37m\u001b[0m \u001b[1m47s\u001b[0m 57ms/step - loss: 9.5055 - mae: 2.4068 - val_loss: 9.5848 - val_mae: 2.4021\n",
            "Epoch 5/10\n",
            "\u001b[1m819/819\u001b[0m \u001b[32m━━━━━━━━━━━━━━━━━━━━\u001b[0m\u001b[37m\u001b[0m \u001b[1m37s\u001b[0m 45ms/step - loss: 9.0872 - mae: 2.3544 - val_loss: 9.5528 - val_mae: 2.3911\n",
            "Epoch 6/10\n",
            "\u001b[1m819/819\u001b[0m \u001b[32m━━━━━━━━━━━━━━━━━━━━\u001b[0m\u001b[37m\u001b[0m \u001b[1m47s\u001b[0m 57ms/step - loss: 8.7991 - mae: 2.3152 - val_loss: 9.4028 - val_mae: 2.3676\n",
            "Epoch 7/10\n",
            "\u001b[1m819/819\u001b[0m \u001b[32m━━━━━━━━━━━━━━━━━━━━\u001b[0m\u001b[37m\u001b[0m \u001b[1m37s\u001b[0m 45ms/step - loss: 8.4897 - mae: 2.2762 - val_loss: 9.4311 - val_mae: 2.3831\n",
            "Epoch 8/10\n",
            "\u001b[1m819/819\u001b[0m \u001b[32m━━━━━━━━━━━━━━━━━━━━\u001b[0m\u001b[37m\u001b[0m \u001b[1m37s\u001b[0m 45ms/step - loss: 8.2840 - mae: 2.2504 - val_loss: 9.4301 - val_mae: 2.3838\n",
            "Epoch 9/10\n",
            "\u001b[1m819/819\u001b[0m \u001b[32m━━━━━━━━━━━━━━━━━━━━\u001b[0m\u001b[37m\u001b[0m \u001b[1m46s\u001b[0m 56ms/step - loss: 8.1017 - mae: 2.2277 - val_loss: 9.6270 - val_mae: 2.4027\n",
            "Epoch 10/10\n",
            "\u001b[1m819/819\u001b[0m \u001b[32m━━━━━━━━━━━━━━━━━━━━\u001b[0m\u001b[37m\u001b[0m \u001b[1m73s\u001b[0m 45ms/step - loss: 7.9473 - mae: 2.2092 - val_loss: 9.5204 - val_mae: 2.4000\n",
            "\u001b[1m405/405\u001b[0m \u001b[32m━━━━━━━━━━━━━━━━━━━━\u001b[0m\u001b[37m\u001b[0m \u001b[1m12s\u001b[0m 29ms/step - loss: 10.6743 - mae: 2.5575\n",
            "Test MAE: 2.54\n"
          ]
        }
      ],
      "source": [
        "inputs = keras.Input(shape=(sequence_length, raw_data.shape[-1]))\n",
        "x = layers.LSTM(16)(inputs)\n",
        "outputs = layers.Dense(1)(x)\n",
        "model = keras.Model(inputs, outputs)\n",
        "\n",
        "callbacks = [\n",
        "    keras.callbacks.ModelCheckpoint(\"jena_lstm.keras\",\n",
        "                                    save_best_only=True)\n",
        "]\n",
        "model.compile(optimizer=\"rmsprop\", loss=\"mse\", metrics=[\"mae\"])\n",
        "history = model.fit(train_dataset,\n",
        "                    epochs=10,\n",
        "                    validation_data=val_dataset,\n",
        "                    callbacks=callbacks)\n",
        "\n",
        "model = keras.models.load_model(\"jena_lstm.keras\")\n",
        "print(f\"Test MAE: {model.evaluate(test_dataset)[1]:.2f}\")"
      ]
    },
    {
      "cell_type": "code",
      "execution_count": 17,
      "id": "2e4a62e4",
      "metadata": {
        "id": "2e4a62e4",
        "outputId": "674e9aea-8de8-4312-8e55-616f225f5f4d",
        "colab": {
          "base_uri": "https://localhost:8080/",
          "height": 452
        }
      },
      "outputs": [
        {
          "output_type": "display_data",
          "data": {
            "text/plain": [
              "<Figure size 640x480 with 1 Axes>"
            ],
            "image/png": "[encoded data removed]"
          },
          "metadata": {}
        }
      ],
      "source": [
        "loss = history.history[\"mae\"]\n",
        "val_loss = history.history[\"val_mae\"]\n",
        "epochs = range(1, len(loss) + 1)\n",
        "plt.figure()\n",
        "plt.plot(epochs, loss, \"bo\", label=\"Training MAE\")\n",
        "plt.plot(epochs, val_loss, \"b\", label=\"Validation MAE\")\n",
        "plt.title(\"Training and validation MAE\")\n",
        "plt.legend()\n",
        "plt.show()"
      ]
    },
    {
      "cell_type": "markdown",
      "id": "1a85eae5",
      "metadata": {
        "id": "1a85eae5"
      },
      "source": [
        "The LSTM-based model can finally beat the common-sense baseline (albeit just by a bit, for now), demonstrating the value of machine learning on this task."
      ]
    }
  ],
  "metadata": {
    "kernelspec": {
      "display_name": "Python 3",
      "name": "python3"
    },
    "language_info": {
      "codemirror_mode": {
        "name": "ipython",
        "version": 3
      },
      "file_extension": ".py",
      "mimetype": "text/x-python",
      "name": "python",
      "nbconvert_exporter": "python",
      "pygments_lexer": "ipython3",
      "version": "3.11.8"
    },
    "colab": {
      "provenance": [],
      "gpuType": "T4"
    },
    "accelerator": "GPU"
  },
  "nbformat": 4,
  "nbformat_minor": 5
}